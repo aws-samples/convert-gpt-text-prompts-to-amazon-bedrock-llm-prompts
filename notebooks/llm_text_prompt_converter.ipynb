{
 "cells": [
  {
   "cell_type": "markdown",
   "id": "40d6e9f4",
   "metadata": {},
   "source": [
    "# Convert GPT text prompts to text prompts for LLMs on Amazon Bedrock\n",
    "\n",
    "A [prompt](https://en.wikipedia.org/wiki/Prompt_engineering) to a [Large Language Model (LLM)](https://en.wikipedia.org/wiki/Large_language_model) is an instruction provided to it to produce an output.  There are many text [prompting techniques](https://www.promptingguide.ai/techniques).\n",
    "\n",
    "This notebook will walk you through examples of converting [GPT](https://en.wikipedia.org/wiki/Generative_pre-trained_transformer) text prompts to text prompts for LLMs available on [Amazon Bedrock](https://docs.aws.amazon.com/bedrock/latest/userguide/what-is-bedrock.html).\n",
    "\n",
    "We will use the following process for prompt conversion,\n",
    "\n",
    "* **Step 1:** Decompose the GPT text prompt into [prompt elements](https://www.promptingguide.ai/introduction/elements) using [Anthropic Claude 3](https://www.anthropic.com/news/claude-3-family) or [Anthropic Claude 3.5 Sonnet](https://www.anthropic.com/news/claude-3-5-sonnet) available on Amazon Bedrock.  These constructs are,\n",
    "    * Context\n",
    "    * Input Data\n",
    "    * Output Indicator\n",
    "    * Instruction\n",
    "* **Step 2:** Parse these constructs using a Python script and create the text prompts for the various LLMs available on Amazon Bedrock.\n",
    "\n",
    "We will cover the following types of prompts,\n",
    "\n",
    "1. [Zero-Shot Prompting](https://www.promptingguide.ai/techniques/zeroshot)\n",
    "2. [Few-Shot Prompting](https://www.promptingguide.ai/techniques/fewshot)\n",
    "3. [Chain-of-Thought Prompting](https://www.promptingguide.ai/techniques/cot)\n",
    "4. [Self-Consistency](https://www.promptingguide.ai/techniques/consistency)\n",
    "5. [Generated Knowledge Prompting](https://www.promptingguide.ai/techniques/knowledge)\n",
    "\n",
    "We will use [LangChain](https://www.langchain.com/) to simplify the process of constructing the prompts and interacting with the LLMs. In the process of working through this notebook, you will learn how to setup the Amazon Bedrock client environment, configure security permissions and use prompt templates in LangChain."
   ]
  },
  {
   "cell_type": "markdown",
   "id": "3229fa03",
   "metadata": {},
   "source": [
    "<div class=\"alert alert-block alert-warning\">  \n",
    "    <b>Disclaimer:</b> This prompt conversion process has been provided to accelerate your migration from GPT to LLMs on Amazon Bedrock. You must review the converted prompts for accuracy, optimize and test them before using in your projects.\n",
    "</div>"
   ]
  },
  {
   "cell_type": "markdown",
   "id": "e0111293",
   "metadata": {},
   "source": [
    "<div class=\"alert alert-block alert-info\">\n",
    "<b>Note:</b>\n",
    "    <ul>\n",
    "        <li>This notebook should only be run from within an <a href=\"https://docs.aws.amazon.com/sagemaker/latest/dg/nbi.html\">Amazon SageMaker Notebook instance</a> or within an <a href=\"https://docs.aws.amazon.com/sagemaker/latest/dg/studio-updated.html\">Amazon SageMaker Studio Notebook</a>.</li>\n",
    "        <li>This notebook uses text based models along with their versions that were available at the time of writing. Update these as required.</li>\n",
    "        <li>At the time of writing this notebook, Amazon Bedrock was only available in <a href=\"https://docs.aws.amazon.com/bedrock/latest/userguide/bedrock-regions.html\">these supported AWS Regions</a>. If you are running this notebook from any other AWS Region, then you have to change the Amazon Bedrock client's region and/or endpoint URL parameters to one of those supported AWS Regions. Follow the guidance in the <i>Organize imports</i> section of this notebook.</li>\n",
    "        <li>This notebook is recommended to be run with a minimum instance size of <i>ml.t3.medium</i> and\n",
    "            <ul>\n",
    "                <li>With <i>Amazon Linux 2, Jupyter Lab 3</i> as the platform identifier on an Amazon SageMaker Notebook instance.</li>\n",
    "                <li> (or)\n",
    "                <li>With <i>Data Science 3.0</i> as the image on an Amazon SageMaker Studio Notebook.</li>\n",
    "            <ul>\n",
    "        </li>\n",
    "        <li>At the time of this writing, the most relevant latest version of the Kernel for running this notebook,\n",
    "            <ul>\n",
    "                <li>On an Amazon SageMaker Notebook instance was <i>conda_python3</i></li>\n",
    "                <li>On an Amazon SageMaker Studio Notebook was <i>Python 3</i></li>\n",
    "            </ul>\n",
    "        </li>\n",
    "    </ul>\n",
    "</div>"
   ]
  },
  {
   "cell_type": "markdown",
   "id": "29e88d20",
   "metadata": {},
   "source": [
    "**Table of Contents:**\n",
    "\n",
    "1. [Complete prerequisites](#Complete%20prerequisites)\n",
    "\n",
    "    1. [Check and configure access to the Internet](#Check%20and%20configure%20access%20to%20the%20Internet)\n",
    "\n",
    "    2. [Install required software libraries](#Install%20required%20software%20libraries)\n",
    "    \n",
    "    3. [Configure logging](#Configure%20logging)\n",
    "        \n",
    "        1. [System logs](#Configure%20system%20logs)\n",
    "        \n",
    "        2. [Application logs](#Configure%20application%20logs)\n",
    "    \n",
    "    4. [Organize imports](#Organize%20imports)\n",
    "    \n",
    "    5. [Create common objects](#Create%20common%20objects)\n",
    "    \n",
    "    6. [Enable model access in Amazon Bedrock](#Enable%20model%20access%20in%20Amazon%20Bedrock)\n",
    "    \n",
    "    7. [Check and configure security permissions](#Check%20and%20configure%20security%20permissions)\n",
    "    \n",
    "    8. [List the available Anthropic Claude 3 models](#List%20the%20available%20Anthropic%20Claude%203%20models)\n",
    "\n",
    " 2. [Prompt conversion](#Prompt%20conversion)\n",
    " \n",
    "    1. [Zero-shot Prompting](#Zero-shot%20Prompting)\n",
    "    \n",
    "    2. [Few-shot Prompting](#Few-shot%20Prompting)\n",
    "    \n",
    "    3. [Chain-of-Thought Prompting](#Chain-of-Thought%20Prompting)\n",
    "    \n",
    "    4. [Self-Consistency](#Self-Consistency)\n",
    "    \n",
    "    5. [Generated Knowledge Prompting](#Generated%20Knowledge%20Prompting)\n",
    " \n",
    " 3. [Cleanup](#Cleanup)\n",
    " \n",
    " 4. [Conclusion](#Conclusion)\n",
    " \n",
    " 5. [Frequently Asked Questions (FAQs)](#FAQs)"
   ]
  },
  {
   "cell_type": "markdown",
   "id": "7a9fb9d3",
   "metadata": {},
   "source": [
    "##  1. Complete prerequisites <a id ='Complete%20prerequisites'> </a>\n",
    "\n",
    "Check and complete the prerequisites."
   ]
  },
  {
   "cell_type": "markdown",
   "id": "1e85c39b",
   "metadata": {},
   "source": [
    "###  A. Check and configure access to the Internet <a id ='Check%20and%20configure%20access%20to%20the%20Internet'> </a>\n",
    "This notebook requires outbound access to the Internet to download the required software updates and to download the dataset.  You can either provide direct Internet access (default) or provide Internet access through an [Amazon VPC](https://aws.amazon.com/vpc/).  For more information on this, refer [here](https://docs.aws.amazon.com/sagemaker/latest/dg/appendix-notebook-and-internet-access.html)."
   ]
  },
  {
   "cell_type": "markdown",
   "id": "820efd56",
   "metadata": {},
   "source": [
    "### B. Install required software libraries <a id ='Install%20required%20software%20libraries'> </a>\n",
    "This notebook requires the following libraries:\n",
    "* [SageMaker Python SDK version 2.x](https://sagemaker.readthedocs.io/en/stable/v2.html)\n",
    "* [Python 3.10.x](https://www.python.org/downloads/release/python-3100/)\n",
    "* [Boto3](https://boto3.amazonaws.com/v1/documentation/api/latest/index.html)\n",
    "* [LangChain](https://www.langchain.com/)\n",
    "\n",
    "Run the following cell to install the required libraries."
   ]
  },
  {
   "cell_type": "markdown",
   "id": "6bb373af",
   "metadata": {},
   "source": [
    "<div class=\"alert alert-block alert-warning\">  \n",
    "    <b>Note:</b> At the end of the installation, the Kernel will be forcefully restarted immediately. Please wait 10 seconds for the kernel to come back before running the next cell.\n",
    "</div>"
   ]
  },
  {
   "cell_type": "code",
   "execution_count": null,
   "id": "7256d4fc-0361-4cee-a548-d9b7e355824f",
   "metadata": {
    "scrolled": false,
    "tags": []
   },
   "outputs": [],
   "source": [
    "!pip install boto3==1.34.157\n",
    "!pip install langchain==0.2.12\n",
    "!pip install langchain-aws==0.1.16\n",
    "!pip install langchain-community==0.2.11\n",
    "!pip install sagemaker==2.228.0\n",
    "\n",
    "import IPython\n",
    "\n",
    "IPython.Application.instance().kernel.do_shutdown(True)"
   ]
  },
  {
   "cell_type": "markdown",
   "id": "93b3c44f",
   "metadata": {},
   "source": [
    "### C. Configure logging <a id ='Configure%20logging'> </a>"
   ]
  },
  {
   "cell_type": "markdown",
   "id": "4fd5ee37",
   "metadata": {},
   "source": [
    "####  a. System logs <a id='Configure%20system%20logs'></a>\n",
    "\n",
    "System logs refers to the logs generated by the notebook's interactions with the underlying notebook instance. Some examples of these are the logs generated when loading or saving the notebook.\n",
    "\n",
    "These logs are automatically setup when the notebook instance is launched.\n",
    "\n",
    "These logs can be accessed through the [Amazon CloudWatch Logs](https://docs.aws.amazon.com/AmazonCloudWatch/latest/logs/WhatIsCloudWatchLogs.html) console in the same AWS Region where this notebook is running.\n",
    "* When running this notebook in an Amazon SageMaker Notebook instance, navigate to the following location,\n",
    "    * <i>CloudWatch > Log groups > /aws/sagemaker/NotebookInstances > {notebook-instance-name}/jupyter.log</i>\n",
    "* When running this notebook in an Amazon SageMaker Studio Notebook, navigate to the following locations,\n",
    "    * <i>CloudWatch > Log groups > /aws/sagemaker/studio > {sagmaker-domain-name}/{user-name}/KernelGateway/{notebook-instance-name}</i>\n",
    "    * <i>CloudWatch > Log groups > /aws/sagemaker/studio > {sagmaker-domain-name}/{user-name}/JupyterServer/default</i>\n",
    "\n",
    "Run the following cell to print the name of the underlying notebook instance."
   ]
  },
  {
   "cell_type": "code",
   "execution_count": null,
   "id": "6c99c519",
   "metadata": {},
   "outputs": [],
   "source": [
    "import json\n",
    "\n",
    "notebook_name = ''\n",
    "resource_metadata_path = '/opt/ml/metadata/resource-metadata.json'\n",
    "with open(resource_metadata_path, 'r') as metadata:\n",
    "    notebook_name = (json.load(metadata))['ResourceName']\n",
    "print(\"Notebook instance name: '{}'\".format(notebook_name))"
   ]
  },
  {
   "cell_type": "markdown",
   "id": "a4cc0025",
   "metadata": {},
   "source": [
    "####  b. Application logs <a id='Configure%20application%20logs'></a>\n",
    "\n",
    "Application logs refers to the logs generated by running the various code cells in this notebook. To set this up, instantiate the [Python logging service](https://docs.python.org/3/library/logging.html) by running the following cell. You can configure the default log level and format as required.\n",
    "\n",
    "By default, this notebook will only print the logs to the corresponding cell's output console."
   ]
  },
  {
   "cell_type": "code",
   "execution_count": null,
   "id": "ecf96e5b",
   "metadata": {},
   "outputs": [],
   "source": [
    "import logging\n",
    "import os\n",
    "\n",
    "# Set the logging level and format\n",
    "log_level = logging.INFO\n",
    "log_format = '%(asctime)s - %(levelname)s - %(message)s'\n",
    "logging.basicConfig(level=log_level, format=log_format)\n",
    "\n",
    "# Save these in the environment variables for use in the helper scripts\n",
    "os.environ['LOG_LEVEL'] = str(log_level)\n",
    "os.environ['LOG_FORMAT'] = log_format"
   ]
  },
  {
   "cell_type": "markdown",
   "id": "9a3bb063",
   "metadata": {},
   "source": [
    "###  D. Organize imports <a id ='Organize%20imports'> </a>\n",
    "\n",
    "Organize all the library and module imports for later use."
   ]
  },
  {
   "cell_type": "code",
   "execution_count": null,
   "id": "764a06b9-812c-4dad-a652-1cb34aa9d8b7",
   "metadata": {
    "scrolled": true,
    "tags": []
   },
   "outputs": [],
   "source": [
    "import boto3\n",
    "import langchain\n",
    "import sagemaker\n",
    "import sys\n",
    "from botocore.config import Config\n",
    "\n",
    "# Import the helper functions from the 'scripts' folder\n",
    "sys.path.append(os.path.join(os.getcwd(), \"scripts\"))\n",
    "#logging.info(\"Updated sys.path: {}\".format(sys.path))\n",
    "from helper_functions import *"
   ]
  },
  {
   "cell_type": "markdown",
   "id": "b48ba26b",
   "metadata": {},
   "source": [
    "Print the installed versions of some of the important libraries."
   ]
  },
  {
   "cell_type": "code",
   "execution_count": null,
   "id": "bb23f2d8",
   "metadata": {
    "scrolled": true
   },
   "outputs": [],
   "source": [
    "logging.info(\"Python version : {}\".format(sys.version))\n",
    "logging.info(\"Boto3 version : {}\".format(boto3.__version__))\n",
    "logging.info(\"SageMaker Python SDK version : {}\".format(sagemaker.__version__))\n",
    "logging.info(\"LangChain version : {}\".format(langchain.__version__))"
   ]
  },
  {
   "cell_type": "markdown",
   "id": "74f63309",
   "metadata": {},
   "source": [
    "###  E. Create common objects <a id='Create%20common%20objects'> </a>\n",
    "\n",
    "Get the current AWS Region (where this notebook is running) and the SageMaker Session. These will be used to initialize some of the clients to AWS services using the boto3 APIs."
   ]
  },
  {
   "cell_type": "markdown",
   "id": "8de7be30",
   "metadata": {},
   "source": [
    "<div class=\"alert alert-block alert-warning\">  \n",
    "<b>Note:</b> At the time of writing this notebook, Amazon Bedrock was only available in <a href=\"https://docs.aws.amazon.com/bedrock/latest/userguide/bedrock-regions.html\">these supported AWS Regions</a>. If you are running this notebook from any other AWS Region, then you have to change the Amazon Bedrock client's region and/or endpoint URL parameters to one of those supported AWS Regions. In order to do this, this notebook will use the value specified in the environment variable named <mark>AMAZON_BEDROCK_REGION</mark>. If this is not specified, then the notebook will default to <mark>us-west-2 (Oregon)</mark> for Amazon Bedrock.\n",
    "</div>\n",
    "\n"
   ]
  },
  {
   "cell_type": "code",
   "execution_count": null,
   "id": "11a6cb45",
   "metadata": {},
   "outputs": [],
   "source": [
    "# Get the AWS Region, SageMaker Session and IAM Role references\n",
    "my_session = boto3.session.Session()\n",
    "logging.info(\"SageMaker Session: {}\".format(my_session))\n",
    "my_iam_role = sagemaker.get_execution_role()\n",
    "logging.info(\"Notebook IAM Role: {}\".format(my_iam_role))\n",
    "my_region = my_session.region_name\n",
    "logging.info(\"Current AWS Region: {}\".format(my_region))\n",
    "\n",
    "# Explicity set the AWS Region for Amazon Bedrock clients\n",
    "AMAZON_BEDROCK_DEFAULT_REGION = \"us-west-2\"\n",
    "br_region = os.environ.get('AMAZON_BEDROCK_REGION')\n",
    "if br_region is None:\n",
    "    br_region = AMAZON_BEDROCK_DEFAULT_REGION\n",
    "elif len(br_region) == 0:\n",
    "    br_region = AMAZON_BEDROCK_DEFAULT_REGION\n",
    "logging.info(\"AWS Region for Amazon Bedrock: {}\".format(br_region))"
   ]
  },
  {
   "cell_type": "markdown",
   "id": "9f8484fc",
   "metadata": {},
   "source": [
    "Set the timeout and retry configurations that will be applied to all the boto3 clients used in this notebook."
   ]
  },
  {
   "cell_type": "code",
   "execution_count": null,
   "id": "037155d8",
   "metadata": {},
   "outputs": [],
   "source": [
    "# Increase the standard time out limits in the boto3 client from 1 minute to 3 minutes\n",
    "# and set the retry limits\n",
    "my_boto3_config = Config(\n",
    "    connect_timeout = (60 * 3),\n",
    "    read_timeout = (60 * 3),\n",
    "    retries = {\n",
    "        'max_attempts': 10,\n",
    "        'mode': 'standard'\n",
    "    }\n",
    ")"
   ]
  },
  {
   "cell_type": "markdown",
   "id": "52b1322f",
   "metadata": {},
   "source": [
    "Create the rest of the common objects."
   ]
  },
  {
   "cell_type": "code",
   "execution_count": null,
   "id": "693def8b",
   "metadata": {},
   "outputs": [],
   "source": [
    "# Create the Amazon Bedrock client\n",
    "bedrock_client = boto3.client(\"bedrock\", region_name = br_region, endpoint_url = \"https://bedrock.{}.amazonaws.com\"\n",
    "                              .format(br_region), config = my_boto3_config)\n",
    "\n",
    "# Create the Amazon Bedrock runtime client\n",
    "bedrock_rt_client = boto3.client(\"bedrock-runtime\", region_name = br_region, config = my_boto3_config)\n",
    "\n",
    "# Specify the directories for the source prompts\n",
    "gpt_source_prompts_dir = os.path.join(os.getcwd(), \"source_prompts\", \"gpt\")\n",
    "\n",
    "# Specify the directories for the target prompts\n",
    "amazon_titan_text_target_prompts_dir = os.path.join(os.getcwd(), \"target_prompts\", \"amazon_titan_text\")\n",
    "anthropic_claude_2_target_prompts_dir = os.path.join(os.getcwd(), \"target_prompts\", \"anthropic_claude_2\")\n",
    "anthropic_claude_3_target_prompts_dir = os.path.join(os.getcwd(), \"target_prompts\", \"anthropic_claude_3\")\n",
    "anthropic_claude_3_5_target_prompts_dir = os.path.join(os.getcwd(), \"target_prompts\", \"anthropic_claude_3.5\")\n",
    "ai21_labs_jurassic_target_prompts_dir = os.path.join(os.getcwd(), \"target_prompts\", \"ai21_labs_jurassic\")\n",
    "cohere_command_target_prompts_dir = os.path.join(os.getcwd(), \"target_prompts\", \"cohere_command\")\n",
    "meta_llama_2_target_prompts_dir = os.path.join(os.getcwd(), \"target_prompts\", \"meta_llama_2\")\n",
    "meta_llama_3_target_prompts_dir = os.path.join(os.getcwd(), \"target_prompts\", \"meta_llama_3\")\n",
    "meta_llama_3_1_target_prompts_dir = os.path.join(os.getcwd(), \"target_prompts\", \"meta_llama_3.1\")\n",
    "mistral_ai_target_prompts_dir = os.path.join(os.getcwd(), \"target_prompts\", \"mistral_ai\")\n",
    "\n",
    "# Create the target prompt directories if they doesn't exist\n",
    "os.makedirs(amazon_titan_text_target_prompts_dir, exist_ok = True)\n",
    "os.makedirs(anthropic_claude_2_target_prompts_dir, exist_ok = True)\n",
    "os.makedirs(anthropic_claude_3_target_prompts_dir, exist_ok = True)\n",
    "os.makedirs(anthropic_claude_3_5_target_prompts_dir, exist_ok = True)\n",
    "os.makedirs(ai21_labs_jurassic_target_prompts_dir, exist_ok = True)\n",
    "os.makedirs(cohere_command_target_prompts_dir, exist_ok = True)\n",
    "os.makedirs(meta_llama_2_target_prompts_dir, exist_ok = True)\n",
    "os.makedirs(meta_llama_3_target_prompts_dir, exist_ok = True)\n",
    "os.makedirs(meta_llama_3_1_target_prompts_dir, exist_ok = True)\n",
    "os.makedirs(mistral_ai_target_prompts_dir, exist_ok = True)\n",
    "\n",
    "# Specify the name of the prompt decomposition template file name\n",
    "prompt_templates_dir = os.path.join(os.getcwd(), \"prompt_templates\")\n",
    "system_prompt_decomposition_template = 'Claude_3.x_system_prompt_template_for_GPT_decomposition.txt'\n",
    "user_prompt_decomposition_template = 'Claude_3.x_user_prompt_template_for_GPT_decomposition.txt'"
   ]
  },
  {
   "cell_type": "markdown",
   "id": "984f0e97",
   "metadata": {},
   "source": [
    "###  F. Enable model access in Amazon Bedrock <a id ='Enable%20model%20access%20in%20Amazon%20Bedrock'> </a>"
   ]
  },
  {
   "cell_type": "markdown",
   "id": "1e84ba9d",
   "metadata": {},
   "source": [
    "<div class=\"alert alert-block alert-danger\">\n",
    "    <b>Note:</b> Before proceeding further with this notebook, you must enable access to the Anthropic Claude 3 models on Amazon Bedrock by following the instructions <a href=\"https://docs.aws.amazon.com/bedrock/latest/userguide/model-access.html\">here</a>. You need to submit the use case details. Otherwise, you will get an authorization error.\n",
    "</div>"
   ]
  },
  {
   "cell_type": "markdown",
   "id": "ed57899f",
   "metadata": {},
   "source": [
    "<div class=\"alert alert-block alert-warning\">  \n",
    "<b>Note:</b> You will have to do this manually after reading the End User License Agreement (EULA) for each of the models that you want to enable. Unless you explicitly disable it, this is a one-time setup for each model in an AWS account.\n",
    "</div>"
   ]
  },
  {
   "cell_type": "markdown",
   "id": "19de160b",
   "metadata": {},
   "source": [
    "Run the following cell to print the Amazon Bedrock model access page URL for the AWS Region that was selected earlier."
   ]
  },
  {
   "cell_type": "code",
   "execution_count": null,
   "id": "78213222",
   "metadata": {},
   "outputs": [],
   "source": [
    "# Print the Amazon Bedrock model access page URL\n",
    "logging.info(\"Amazon Bedrock model access page - https://{}.console.aws.amazon.com/bedrock/home?region={}#/modelaccess\"\n",
    "             .format(br_region, br_region))"
   ]
  },
  {
   "cell_type": "markdown",
   "id": "72c09b6c",
   "metadata": {},
   "source": [
    "<div class=\"alert alert-block alert-info\">  \n",
    "<b>Note:</b> For running this notebook, you need access to only the Anthropic Claude 3 models. However, if you want to run the converted prompts against the respective models on Amazon Bedrock, then, you need to enable access to those models as well. \n",
    "</div>"
   ]
  },
  {
   "cell_type": "markdown",
   "id": "9cff74b8",
   "metadata": {},
   "source": [
    "After enabling all the required model access, you can try out the converted prompts on the [Amazon Bedrock playgrounds](https://docs.aws.amazon.com/bedrock/latest/userguide/playgrounds.html). Run the following cell to print the URL for the [text playground](https://docs.aws.amazon.com/bedrock/latest/userguide/playgrounds.html#text-playground) for the AWS Region that was selected earlier."
   ]
  },
  {
   "cell_type": "code",
   "execution_count": null,
   "id": "6ed6892a",
   "metadata": {},
   "outputs": [],
   "source": [
    "# Print the Amazon Bedrock text model playground URL\n",
    "logging.info(\"Amazon Bedrock text model playground - https://{}.console.aws.amazon.com/bedrock/home?region={}#/text-playground\"\n",
    "             .format(br_region, br_region))"
   ]
  },
  {
   "cell_type": "markdown",
   "id": "1d2ee077",
   "metadata": {},
   "source": [
    "###  G. Check and configure security permissions <a id ='Check%20and%20configure%20security%20permissions'> </a>\n",
    "This notebook uses the IAM role attached to the underlying notebook instance.  To view the name of this role, run the following cell.\n",
    "\n",
    "This IAM role should have the following permissions,\n",
    "\n",
    "1. Full access to invoke Large Language Models (LLMs) on Amazon Bedrock.\n",
    "2. Access to write to Amazon CloudWatch Logs."
   ]
  },
  {
   "cell_type": "markdown",
   "id": "a16baab7",
   "metadata": {},
   "source": [
    "Run the following cell to print the details of the IAM role attached to the underlying notebook instance."
   ]
  },
  {
   "cell_type": "code",
   "execution_count": null,
   "id": "e2c64186",
   "metadata": {
    "scrolled": true
   },
   "outputs": [],
   "source": [
    "# Print the IAM role ARN and console URL\n",
    "logging.info(\"This notebook's IAM role is '{}'\".format(my_iam_role))\n",
    "arn_parts = my_iam_role.split('/')\n",
    "logging.info(\"Details of this IAM role are available at https://{}.console.aws.amazon.com/iamv2/home?region={}#/roles/details/{}?section=permissions\"\n",
    "             .format(my_region, my_region, arn_parts[len(arn_parts) - 1]))"
   ]
  },
  {
   "cell_type": "markdown",
   "id": "12579ad7",
   "metadata": {},
   "source": [
    "###  H. List the available Anthropic Claude 3 models <a id='List%20the%20available%20Anthropic%20Claude%203%20models'> </a>\n",
    "\n",
    "Running the following cell will list all Anthropic Claude 3 and 3.5 LLMs on Amazon Bedrock that are offered through the On-Demand throughput pricing model. This will help you pick the model-ids that you will use further down in this notebook.\n",
    "\n",
    "For more information on this, refer [here](https://docs.aws.amazon.com/bedrock/latest/userguide/model-ids.html#model-ids-arns)."
   ]
  },
  {
   "cell_type": "code",
   "execution_count": null,
   "id": "323e08e7",
   "metadata": {
    "scrolled": true
   },
   "outputs": [],
   "source": [
    "# List all the available Anthropic Claude 3 and 3.5 LLMs in Amazon Bedrock with On-Demand throughput pricing\n",
    "models_info = ''\n",
    "response = bedrock_client.list_foundation_models(byProvider = \"Anthropic\",\n",
    "                                                 byInferenceType = \"ON_DEMAND\")\n",
    "model_summaries = response[\"modelSummaries\"]\n",
    "models_info = models_info + \"\\n\"\n",
    "models_info = models_info + \"-\".ljust(125, \"-\") + \"\\n\"\n",
    "models_info = models_info + \"{:<15} {:<30} {:<20} {:<20} {:<40}\".format(\"Provider Name\", \"Model Name\", \"Input Modalities\",\n",
    "                                                          \"Output Modalities\", \"Model Id\")\n",
    "models_info = models_info + \"-\".ljust(125, \"-\")\n",
    "for model_summary in model_summaries:\n",
    "    # Check for Claude 3 and 3.5 LLMs and process\n",
    "    if model_summary[\"modelName\"] in (\"Claude 3 Sonnet\", \"Claude 3 Haiku\", \"Claude 3 Opus\", \"Claude 3.5 Sonnet\"):\n",
    "        models_info = models_info + \"\\n\"\n",
    "        models_info = models_info + \"{:<15} {:<30} {:<20} {:<20} {:<40}\".format(model_summary[\"providerName\"],\n",
    "                                                                                model_summary[\"modelName\"],\n",
    "                                                                                \"|\".join(model_summary[\"inputModalities\"]),\n",
    "                                                                                \"|\".join(model_summary[\"outputModalities\"]),\n",
    "                                                                                model_summary[\"modelId\"])\n",
    "models_info = models_info + \"-\".ljust(125, \"-\") + \"\\n\"\n",
    "logging.info(\"Displaying available Anthropic Claude 3 and 3.5 models in the '{}' Region:\".format(br_region) + models_info)"
   ]
  },
  {
   "cell_type": "markdown",
   "id": "6b1a8504",
   "metadata": {},
   "source": [
    "## 2. Prompt conversion <a id ='Prompt%20conversion'> </a>\n",
    "\n",
    "We will use the following process for prompt conversion,\n",
    "\n",
    "* **Step 1:** Decompose the GPT text prompt into [prompt elements](https://www.promptingguide.ai/introduction/elements) using [Anthropic Claude 3](https://www.anthropic.com/news/claude-3-family) or [Anthropic Claude 3.5 Sonnet](https://www.anthropic.com/news/claude-3-5-sonnet) available on Amazon Bedrock.  These constructs are,\n",
    "    * Context\n",
    "    * Input Data\n",
    "    * Output Indicator\n",
    "    * Instruction\n",
    "* **Step 2:** Parse these constructs using a Python script and create the text prompts for the various LLMs available on Amazon Bedrock."
   ]
  },
  {
   "cell_type": "code",
   "execution_count": null,
   "id": "9cd73518",
   "metadata": {},
   "outputs": [],
   "source": [
    "# Specify the Anthropic Claude 3 or 3.5 model-id\n",
    "model_id = \"anthropic.claude-3-5-sonnet-20240620-v1:0\"\n",
    "#model_id = \"anthropic.claude-3-haiku-20240307-v1:0\"\n",
    "#model_id = \"anthropic.claude-3-sonnet-20240229-v1:0\"\n",
    "#model_id = \"anthropic.claude-3-opus-20240229-v1:0\""
   ]
  },
  {
   "cell_type": "markdown",
   "id": "1d057297",
   "metadata": {},
   "source": [
    "### A. Zero-shot Prompting <a id ='Zero-shot%20Prompting'> </a>\n",
    "\n",
    "For info on Zero-shot Prompting, refer [here](https://www.promptingguide.ai/techniques/zeroshot)."
   ]
  },
  {
   "cell_type": "code",
   "execution_count": null,
   "id": "cc4fe2b7",
   "metadata": {},
   "outputs": [],
   "source": [
    "# Specify the source prompt file name\n",
    "source_prompt_file_name = 'GPT_zero_shot_prompt_1.txt'"
   ]
  },
  {
   "cell_type": "markdown",
   "id": "3233f125",
   "metadata": {},
   "source": [
    "View the GPT prompt content by running the following cell."
   ]
  },
  {
   "cell_type": "code",
   "execution_count": null,
   "id": "c76dda25",
   "metadata": {},
   "outputs": [],
   "source": [
    "!cat {gpt_source_prompts_dir}/{source_prompt_file_name}"
   ]
  },
  {
   "cell_type": "markdown",
   "id": "180f27dd",
   "metadata": {},
   "source": [
    "**Step 1:** Take the GPT prompt and decompose it into prompt constructs."
   ]
  },
  {
   "cell_type": "code",
   "execution_count": null,
   "id": "cadff167",
   "metadata": {},
   "outputs": [],
   "source": [
    "# Read the data from the file that contains\n",
    "# the source (GPT) prompt (./scripts/helper_functions.py)\n",
    "source_prompt = read_file(gpt_source_prompts_dir, source_prompt_file_name)\n",
    "\n",
    "# Prepare the prompt and invoke the LLM (./scripts/helper_functions.py)\n",
    "# Note that the temperature will be set to 0 in the helper function\n",
    "decomposed_source_prompt = process_prompt(model_id,\n",
    "                                          bedrock_rt_client,\n",
    "                                          prompt_templates_dir,\n",
    "                                          system_prompt_decomposition_template,\n",
    "                                          user_prompt_decomposition_template,\n",
    "                                          source_prompt)"
   ]
  },
  {
   "cell_type": "markdown",
   "id": "eb23fd0f",
   "metadata": {},
   "source": [
    "**Step 2:** Parse the decomposed prompt constructs and create the prompts for LLMs on Amazon Bedrock."
   ]
  },
  {
   "cell_type": "code",
   "execution_count": null,
   "id": "8fdfc285",
   "metadata": {},
   "outputs": [],
   "source": [
    "# Using the helper functions in (./scripts/helper_functions.py)\n",
    "\n",
    "## Amazon Titan Text\n",
    "convert_decomposed_prompt('Amazon Titan Text', amazon_titan_text_target_prompts_dir, 'zero_shot_prompt', decomposed_source_prompt)\n",
    "\n",
    "## Anthropic Claude 2\n",
    "convert_decomposed_prompt('Anthropic Claude 2', anthropic_claude_2_target_prompts_dir, 'zero_shot_prompt', decomposed_source_prompt)\n",
    "\n",
    "## Anthropic Claude 3 (Messages API)\n",
    "convert_decomposed_prompt('Anthropic Claude 3', anthropic_claude_3_target_prompts_dir, 'zero_shot_prompt', decomposed_source_prompt)\n",
    "\n",
    "## Anthropic Claude 3.5 (Messages API)\n",
    "convert_decomposed_prompt('Anthropic Claude 3.5', anthropic_claude_3_5_target_prompts_dir, 'zero_shot_prompt', decomposed_source_prompt)\n",
    "\n",
    "## AI21 Labs Jurassic\n",
    "convert_decomposed_prompt('AI21 Labs Jurassic', ai21_labs_jurassic_target_prompts_dir, 'zero_shot_prompt', decomposed_source_prompt)\n",
    "\n",
    "## Cohere Command\n",
    "convert_decomposed_prompt('Cohere Command', cohere_command_target_prompts_dir, 'zero_shot_prompt', decomposed_source_prompt)\n",
    "\n",
    "## Meta LLAMA 2\n",
    "convert_decomposed_prompt('Meta LLAMA 2', meta_llama_2_target_prompts_dir, 'zero_shot_prompt', decomposed_source_prompt)\n",
    "\n",
    "## Meta LLAMA 3\n",
    "convert_decomposed_prompt('Meta LLAMA 3', meta_llama_3_target_prompts_dir, 'zero_shot_prompt', decomposed_source_prompt)\n",
    "\n",
    "## Meta LLAMA 3.1\n",
    "convert_decomposed_prompt('Meta LLAMA 3.1', meta_llama_3_1_target_prompts_dir, 'zero_shot_prompt', decomposed_source_prompt)\n",
    "\n",
    "## Mistral AI\n",
    "convert_decomposed_prompt('Mistral AI', mistral_ai_target_prompts_dir, 'zero_shot_prompt', decomposed_source_prompt)"
   ]
  },
  {
   "cell_type": "markdown",
   "id": "ef85e6ea",
   "metadata": {},
   "source": [
    "### B. Few-shot Prompting <a id ='Few-shot%20Prompting'> </a>\n",
    "\n",
    "For info on Few-shot Prompting, refer [here](https://www.promptingguide.ai/techniques/fewshot)."
   ]
  },
  {
   "cell_type": "code",
   "execution_count": null,
   "id": "6571f914",
   "metadata": {},
   "outputs": [],
   "source": [
    "# Specify the source prompt file name\n",
    "#source_prompt_file_name = 'GPT_few_shot_prompt_1.txt'\n",
    "source_prompt_file_name = 'GPT_few_shot_prompt_2.txt'"
   ]
  },
  {
   "cell_type": "markdown",
   "id": "c4d65ea5",
   "metadata": {},
   "source": [
    "View the GPT prompt content by running the following cell."
   ]
  },
  {
   "cell_type": "code",
   "execution_count": null,
   "id": "0adc62cf",
   "metadata": {},
   "outputs": [],
   "source": [
    "!cat {gpt_source_prompts_dir}/{source_prompt_file_name}"
   ]
  },
  {
   "cell_type": "markdown",
   "id": "915f5c06",
   "metadata": {},
   "source": [
    "**Step 1:** Take the GPT prompt and decompose it into prompt constructs."
   ]
  },
  {
   "cell_type": "code",
   "execution_count": null,
   "id": "500f8e25",
   "metadata": {},
   "outputs": [],
   "source": [
    "# Read the data from the file that contains\n",
    "# the source (GPT) prompt (./scripts/helper_functions.py)\n",
    "source_prompt = read_file(gpt_source_prompts_dir, source_prompt_file_name)\n",
    "\n",
    "# Prepare the prompt and invoke the LLM (./scripts/helper_functions.py)\n",
    "# Note that the temperature will be set to 0 in the helper function\n",
    "decomposed_source_prompt = process_prompt(model_id,\n",
    "                                          bedrock_rt_client,\n",
    "                                          prompt_templates_dir,\n",
    "                                          system_prompt_decomposition_template,\n",
    "                                          user_prompt_decomposition_template,\n",
    "                                          source_prompt)"
   ]
  },
  {
   "cell_type": "markdown",
   "id": "097b86bf",
   "metadata": {},
   "source": [
    "**Step 2:** Parse the decomposed prompt constructs and create the prompts for LLMs on Amazon Bedrock."
   ]
  },
  {
   "cell_type": "code",
   "execution_count": null,
   "id": "5418b23f",
   "metadata": {},
   "outputs": [],
   "source": [
    "# Using the helper functions in (./scripts/helper_functions.py)\n",
    "\n",
    "## Amazon Titan Text\n",
    "convert_decomposed_prompt('Amazon Titan Text', amazon_titan_text_target_prompts_dir, 'few_shot_prompt', decomposed_source_prompt)\n",
    "\n",
    "## Anthropic Claude 2\n",
    "convert_decomposed_prompt('Anthropic Claude 2', anthropic_claude_2_target_prompts_dir, 'few_shot_prompt', decomposed_source_prompt)\n",
    "\n",
    "## Anthropic Claude 3 (Messages API)\n",
    "convert_decomposed_prompt('Anthropic Claude 3', anthropic_claude_3_target_prompts_dir, 'few_shot_prompt', decomposed_source_prompt)\n",
    "\n",
    "## Anthropic Claude 3.5 (Messages API)\n",
    "convert_decomposed_prompt('Anthropic Claude 3.5', anthropic_claude_3_5_target_prompts_dir, 'few_shot_prompt', decomposed_source_prompt)\n",
    "\n",
    "## AI21 Labs Jurassic\n",
    "convert_decomposed_prompt('AI21 Labs Jurassic', ai21_labs_jurassic_target_prompts_dir, 'few_shot_prompt', decomposed_source_prompt)\n",
    "\n",
    "## Cohere Command\n",
    "convert_decomposed_prompt('Cohere Command', cohere_command_target_prompts_dir, 'few_shot_prompt', decomposed_source_prompt)\n",
    "\n",
    "## Meta LLAMA 2\n",
    "convert_decomposed_prompt('Meta LLAMA 2', meta_llama_2_target_prompts_dir, 'few_shot_prompt', decomposed_source_prompt)\n",
    "\n",
    "## Meta LLAMA 3\n",
    "convert_decomposed_prompt('Meta LLAMA 3', meta_llama_3_target_prompts_dir, 'few_shot_prompt', decomposed_source_prompt)\n",
    "\n",
    "## Meta LLAMA 3.1\n",
    "convert_decomposed_prompt('Meta LLAMA 3.1', meta_llama_3_1_target_prompts_dir, 'few_shot_prompt', decomposed_source_prompt)\n",
    "\n",
    "## Mistral AI\n",
    "convert_decomposed_prompt('Mistral AI', mistral_ai_target_prompts_dir, 'few_shot_prompt', decomposed_source_prompt)"
   ]
  },
  {
   "cell_type": "markdown",
   "id": "a6cf236e",
   "metadata": {},
   "source": [
    "### C. Chain-of-Thought Prompting <a id ='Chain-of-Thought%20Prompting'> </a>\n",
    "\n",
    "For info on Chain-of-Thought Prompting, refer [here](https://www.promptingguide.ai/techniques/cot)."
   ]
  },
  {
   "cell_type": "code",
   "execution_count": null,
   "id": "e9ce7c83",
   "metadata": {},
   "outputs": [],
   "source": [
    "# Specify the source prompt file name\n",
    "source_prompt_file_name = 'GPT_chain_of_thought_prompt_1.txt'"
   ]
  },
  {
   "cell_type": "markdown",
   "id": "aecf586c",
   "metadata": {},
   "source": [
    "View the GPT prompt content by running the following cell."
   ]
  },
  {
   "cell_type": "code",
   "execution_count": null,
   "id": "d44c6b09",
   "metadata": {},
   "outputs": [],
   "source": [
    "!cat {gpt_source_prompts_dir}/{source_prompt_file_name}"
   ]
  },
  {
   "cell_type": "markdown",
   "id": "7e684b60",
   "metadata": {},
   "source": [
    "**Step 1:** Take the GPT prompt and decompose it into prompt constructs."
   ]
  },
  {
   "cell_type": "code",
   "execution_count": null,
   "id": "a630779f",
   "metadata": {},
   "outputs": [],
   "source": [
    "# Read the data from the file that contains\n",
    "# the source (GPT) prompt (./scripts/helper_functions.py)\n",
    "source_prompt = read_file(gpt_source_prompts_dir, source_prompt_file_name)\n",
    "\n",
    "# Prepare the prompt and invoke the LLM (./scripts/helper_functions.py)\n",
    "# Note that the temperature will be set to 0 in the helper function\n",
    "decomposed_source_prompt = process_prompt(model_id,\n",
    "                                          bedrock_rt_client,\n",
    "                                          prompt_templates_dir,\n",
    "                                          system_prompt_decomposition_template,\n",
    "                                          user_prompt_decomposition_template,\n",
    "                                          source_prompt)"
   ]
  },
  {
   "cell_type": "markdown",
   "id": "71a12ea4",
   "metadata": {},
   "source": [
    "**Step 2:** Parse the decomposed prompt constructs and create the prompts for LLMs on Amazon Bedrock."
   ]
  },
  {
   "cell_type": "code",
   "execution_count": null,
   "id": "935da92a",
   "metadata": {},
   "outputs": [],
   "source": [
    "# Using the helper functions in (./scripts/helper_functions.py)\n",
    "\n",
    "## Amazon Titan Text\n",
    "convert_decomposed_prompt('Amazon Titan Text', amazon_titan_text_target_prompts_dir, 'chain_of_thought_prompt', decomposed_source_prompt)\n",
    "\n",
    "## Anthropic Claude 2\n",
    "convert_decomposed_prompt('Anthropic Claude 2', anthropic_claude_2_target_prompts_dir, 'chain_of_thought_prompt', decomposed_source_prompt)\n",
    "\n",
    "## Anthropic Claude 3 (Messages API)\n",
    "convert_decomposed_prompt('Anthropic Claude 3', anthropic_claude_3_target_prompts_dir, 'chain_of_thought_prompt', decomposed_source_prompt)\n",
    "\n",
    "## Anthropic Claude 3.5 (Messages API)\n",
    "convert_decomposed_prompt('Anthropic Claude 3.5', anthropic_claude_3_5_target_prompts_dir, 'chain_of_thought_prompt', decomposed_source_prompt)\n",
    "\n",
    "## AI21 Labs Jurassic\n",
    "convert_decomposed_prompt('AI21 Labs Jurassic', ai21_labs_jurassic_target_prompts_dir, 'chain_of_thought_prompt', decomposed_source_prompt)\n",
    "\n",
    "## Cohere Command\n",
    "convert_decomposed_prompt('Cohere Command', cohere_command_target_prompts_dir, 'chain_of_thought_prompt', decomposed_source_prompt)\n",
    "\n",
    "## Meta LLAMA 2\n",
    "convert_decomposed_prompt('Meta LLAMA 2', meta_llama_2_target_prompts_dir, 'chain_of_thought_prompt', decomposed_source_prompt)\n",
    "\n",
    "## Meta LLAMA 3\n",
    "convert_decomposed_prompt('Meta LLAMA 3', meta_llama_3_target_prompts_dir, 'chain_of_thought_prompt', decomposed_source_prompt)\n",
    "\n",
    "## Meta LLAMA 3.1\n",
    "convert_decomposed_prompt('Meta LLAMA 3.1', meta_llama_3_1_target_prompts_dir, 'chain_of_thought_prompt', decomposed_source_prompt)\n",
    "\n",
    "## Mistral AI\n",
    "convert_decomposed_prompt('Mistral AI', mistral_ai_target_prompts_dir, 'chain_of_thought_prompt', decomposed_source_prompt)"
   ]
  },
  {
   "cell_type": "markdown",
   "id": "a7e1a7ae",
   "metadata": {},
   "source": [
    "### D. Self-Consistency <a id ='Self-Consistency'> </a>\n",
    "\n",
    "For info on Self-Consistency, refer [here](https://www.promptingguide.ai/techniques/consistency)."
   ]
  },
  {
   "cell_type": "code",
   "execution_count": null,
   "id": "10ac6185",
   "metadata": {},
   "outputs": [],
   "source": [
    "# Specify the source prompt file name\n",
    "source_prompt_file_name = 'GPT_self_consistency_prompt_1.txt'"
   ]
  },
  {
   "cell_type": "markdown",
   "id": "f7c1a87d",
   "metadata": {},
   "source": [
    "View the GPT prompt content by running the following cell."
   ]
  },
  {
   "cell_type": "code",
   "execution_count": null,
   "id": "3b16ae59",
   "metadata": {},
   "outputs": [],
   "source": [
    "!cat {gpt_source_prompts_dir}/{source_prompt_file_name}"
   ]
  },
  {
   "cell_type": "markdown",
   "id": "69714f9a",
   "metadata": {},
   "source": [
    "**Step 1:** Take the GPT prompt and decompose it into prompt constructs."
   ]
  },
  {
   "cell_type": "code",
   "execution_count": null,
   "id": "87ec058d",
   "metadata": {},
   "outputs": [],
   "source": [
    "# Read the data from the file that contains\n",
    "# the source (GPT) prompt (./scripts/helper_functions.py)\n",
    "source_prompt = read_file(gpt_source_prompts_dir, source_prompt_file_name)\n",
    "\n",
    "# Prepare the prompt and invoke the LLM (./scripts/helper_functions.py)\n",
    "# Note that the temperature will be set to 0 in the helper function\n",
    "decomposed_source_prompt = process_prompt(model_id,\n",
    "                                          bedrock_rt_client,\n",
    "                                          prompt_templates_dir,\n",
    "                                          system_prompt_decomposition_template,\n",
    "                                          user_prompt_decomposition_template,\n",
    "                                          source_prompt)"
   ]
  },
  {
   "cell_type": "markdown",
   "id": "d5558713",
   "metadata": {},
   "source": [
    "**Step 2:** Parse the decomposed prompt constructs and create the prompts for LLMs on Amazon Bedrock."
   ]
  },
  {
   "cell_type": "code",
   "execution_count": null,
   "id": "21a9c375",
   "metadata": {},
   "outputs": [],
   "source": [
    "# Using the helper functions in (./scripts/helper_functions.py)\n",
    "\n",
    "## Amazon Titan Text\n",
    "convert_decomposed_prompt('Amazon Titan Text', amazon_titan_text_target_prompts_dir, 'self_consistency_prompt', decomposed_source_prompt)\n",
    "\n",
    "## Anthropic Claude 2\n",
    "convert_decomposed_prompt('Anthropic Claude 2', anthropic_claude_2_target_prompts_dir, 'self_consistency_prompt', decomposed_source_prompt)\n",
    "\n",
    "## Anthropic Claude 3 (Messages API)\n",
    "convert_decomposed_prompt('Anthropic Claude 3', anthropic_claude_3_target_prompts_dir, 'self_consistency_prompt', decomposed_source_prompt)\n",
    "\n",
    "## Anthropic Claude 3.5 (Messages API)\n",
    "convert_decomposed_prompt('Anthropic Claude 3.5', anthropic_claude_3_5_target_prompts_dir, 'self_consistency_prompt', decomposed_source_prompt)\n",
    "\n",
    "## AI21 Labs Jurassic\n",
    "convert_decomposed_prompt('AI21 Labs Jurassic', ai21_labs_jurassic_target_prompts_dir, 'self_consistency_prompt', decomposed_source_prompt)\n",
    "\n",
    "## Cohere Command\n",
    "convert_decomposed_prompt('Cohere Command', cohere_command_target_prompts_dir, 'self_consistency_prompt', decomposed_source_prompt)\n",
    "\n",
    "## Meta LLAMA 2\n",
    "convert_decomposed_prompt('Meta LLAMA 2', meta_llama_2_target_prompts_dir, 'self_consistency_prompt', decomposed_source_prompt)\n",
    "\n",
    "## Meta LLAMA 3\n",
    "convert_decomposed_prompt('Meta LLAMA 3', meta_llama_3_target_prompts_dir, 'self_consistency_prompt', decomposed_source_prompt)\n",
    "\n",
    "## Meta LLAMA 3.1\n",
    "convert_decomposed_prompt('Meta LLAMA 3.1', meta_llama_3_1_target_prompts_dir, 'self_consistency_prompt', decomposed_source_prompt)\n",
    "\n",
    "## Mistral AI\n",
    "convert_decomposed_prompt('Mistral AI', mistral_ai_target_prompts_dir, 'self_consistency_prompt', decomposed_source_prompt)"
   ]
  },
  {
   "cell_type": "markdown",
   "id": "016300b7",
   "metadata": {},
   "source": [
    "### E. Generated Knowledge Prompting <a id ='Generated%20Knowledge%20Prompting'> </a>\n",
    "\n",
    "For info on Generated Knowledge Prompting, refer [here](https://www.promptingguide.ai/techniques/knowledge)."
   ]
  },
  {
   "cell_type": "code",
   "execution_count": null,
   "id": "4ac1ec56",
   "metadata": {},
   "outputs": [],
   "source": [
    "# Specify the source prompt file name\n",
    "source_prompt_file_name = 'GPT_general_knowledge_prompt_1.txt'"
   ]
  },
  {
   "cell_type": "markdown",
   "id": "9da60fd7",
   "metadata": {},
   "source": [
    "View the GPT prompt content by running the following cell."
   ]
  },
  {
   "cell_type": "code",
   "execution_count": null,
   "id": "cde3b45b",
   "metadata": {},
   "outputs": [],
   "source": [
    "!cat {gpt_source_prompts_dir}/{source_prompt_file_name}"
   ]
  },
  {
   "cell_type": "markdown",
   "id": "986813e2",
   "metadata": {},
   "source": [
    "**Step 1:** Take the GPT prompt and decompose it into prompt constructs."
   ]
  },
  {
   "cell_type": "code",
   "execution_count": null,
   "id": "b3a1702f",
   "metadata": {},
   "outputs": [],
   "source": [
    "# Read the data from the file that contains\n",
    "# the source (GPT) prompt (./scripts/helper_functions.py)\n",
    "source_prompt = read_file(gpt_source_prompts_dir, source_prompt_file_name)\n",
    "\n",
    "# Prepare the prompt and invoke the LLM (./scripts/helper_functions.py)\n",
    "# Note that the temperature will be set to 0 in the helper function\n",
    "decomposed_source_prompt = process_prompt(model_id,\n",
    "                                          bedrock_rt_client,\n",
    "                                          prompt_templates_dir,\n",
    "                                          system_prompt_decomposition_template,\n",
    "                                          user_prompt_decomposition_template,\n",
    "                                          source_prompt)"
   ]
  },
  {
   "cell_type": "markdown",
   "id": "4c61f262",
   "metadata": {},
   "source": [
    "**Step 2:** Parse the decomposed prompt constructs and create the prompts for LLMs on Amazon Bedrock."
   ]
  },
  {
   "cell_type": "code",
   "execution_count": null,
   "id": "df93a874",
   "metadata": {},
   "outputs": [],
   "source": [
    "# Using the helper functions in (./scripts/helper_functions.py)\n",
    "\n",
    "## Amazon Titan Text\n",
    "convert_decomposed_prompt('Amazon Titan Text', amazon_titan_text_target_prompts_dir, 'general_knowledge_prompt', decomposed_source_prompt)\n",
    "\n",
    "## Anthropic Claude 2\n",
    "convert_decomposed_prompt('Anthropic Claude 2', anthropic_claude_2_target_prompts_dir, 'general_knowledge_prompt', decomposed_source_prompt)\n",
    "\n",
    "## Anthropic Claude 3 (Messages API)\n",
    "convert_decomposed_prompt('Anthropic Claude 3', anthropic_claude_3_target_prompts_dir, 'general_knowledge_prompt', decomposed_source_prompt)\n",
    "\n",
    "## Anthropic Claude 3.5 (Messages API)\n",
    "convert_decomposed_prompt('Anthropic Claude 3.5', anthropic_claude_3_5_target_prompts_dir, 'general_knowledge_prompt', decomposed_source_prompt)\n",
    "\n",
    "## AI21 Labs Jurassic\n",
    "convert_decomposed_prompt('AI21 Labs Jurassic', ai21_labs_jurassic_target_prompts_dir, 'general_knowledge_prompt', decomposed_source_prompt)\n",
    "\n",
    "## Cohere Command\n",
    "convert_decomposed_prompt('Cohere Command', cohere_command_target_prompts_dir, 'general_knowledge_prompt', decomposed_source_prompt)\n",
    "\n",
    "## Meta LLAMA 2\n",
    "convert_decomposed_prompt('Meta LLAMA 2', meta_llama_2_target_prompts_dir, 'general_knowledge_prompt', decomposed_source_prompt)\n",
    "\n",
    "## Meta LLAMA 3\n",
    "convert_decomposed_prompt('Meta LLAMA 3', meta_llama_3_target_prompts_dir, 'general_knowledge_prompt', decomposed_source_prompt)\n",
    "\n",
    "## Meta LLAMA 3.1\n",
    "convert_decomposed_prompt('Meta LLAMA 3.1', meta_llama_3_1_target_prompts_dir, 'general_knowledge_prompt', decomposed_source_prompt)\n",
    "\n",
    "## Mistral AI\n",
    "convert_decomposed_prompt('Mistral AI', mistral_ai_target_prompts_dir, 'general_knowledge_prompt', decomposed_source_prompt)"
   ]
  },
  {
   "cell_type": "markdown",
   "id": "b3a1216a",
   "metadata": {},
   "source": [
    "## 3. Cleanup <a id='Cleanup'></a>\n",
    "\n",
    "As a best practice, you should delete AWS resources that are no longer required.  This will help you avoid incurring unncessary costs.\n",
    "\n",
    "The minimum cleanup required for this notebook would be shutdown the instance on which this notebook is running."
   ]
  },
  {
   "cell_type": "markdown",
   "id": "b4bd52a5",
   "metadata": {},
   "source": [
    "## 4. Conclusion <a id='Conclusion'></a>\n",
    "\n",
    "We have now seen how to convert GPT text prompts to text prompts for LLMs available on [Amazon Bedrock](https://aws.amazon.com/bedrock/). Through this, you were able to learn how the prompts are different for different LLMs and how to use prompt templates."
   ]
  },
  {
   "cell_type": "markdown",
   "id": "8bf266cf",
   "metadata": {
    "scrolled": true
   },
   "source": [
    "## 5. Frequently Asked Questions (FAQs) <a id='FAQs'></a>"
   ]
  },
  {
   "cell_type": "markdown",
   "id": "0bf2c50f",
   "metadata": {},
   "source": [
    "**Q: What AWS services are used in this notebook?**\n",
    "\n",
    "Amazon Bedrock, AWS Identity and Access Management (IAM), Amazon CloudWatch, and Amazon SageMaker Notebook instance (or) Amazon SageMaker Studio Notebook depending on what you use to run the notebook.\n",
    "\n",
    "**Q: Will Amazon Bedrock capture and store my data?**\n",
    "\n",
    "Amazon Bedrock doesn't use your prompts and continuations to train any AWS models or distribute them to third parties. Your training data isn't used to train the base Amazon Titan models or distributed to third parties. Other usage data, such as usage timestamps, logged account IDs, and other information logged by the service, is also not used to train the models.\n",
    "\n",
    "Amazon Bedrock uses the fine tuning data you provide only for fine tuning an Amazon Titan model. Amazon Bedrock doesn't use fine tuning data for any other purpose, such as training base foundation models.\n",
    "\n",
    "Each model provider has an escrow account that they upload their models to. The Amazon Bedrock inference account has permissions to call these models, but the escrow accounts themselves don't have outbound permissions to Amazon Bedrock accounts. Additionally, model providers don't have access to Amazon Bedrock logs or access to customer prompts and continuations.\n",
    "\n",
    "Amazon Bedrock doesn’t store or log your data in its service logs.\n",
    "\n",
    "**Q: What models are supported by Amazon Bedrock?**\n",
    "\n",
    "Go [here](https://docs.aws.amazon.com/bedrock/latest/userguide/models-supported.html).\n",
    "\n",
    "**Q: What is the difference between On-demand and Provisioned Throughput in Amazon Bedrock?**\n",
    "\n",
    "With the On-Demand mode, you only pay for what you use, with no time-based term commitments. For text generation models, you are charged for every input token processed and every output token generated. For embeddings models, you are charged for every input token processed. A token is comprised of a few characters and refers to the basic unit that a model learns to understand user input and prompt to generate results. For image generation models, you are charged for every image generated.\n",
    "\n",
    "With the Provisioned Throughput mode, you can purchase model units for a specific base or custom model. The Provisioned Throughput mode is primarily designed for large consistent inference workloads that need guaranteed throughput. Custom models can only be accessed using Provisioned Throughput. A model unit provides a certain throughput, which is measured by the maximum number of input or output tokens processed per minute. With this Provisioned Throughput pricing, charged by the hour, you have the flexibility to choose between 1-month or 6-month commitment terms.\n",
    "\n",
    "**Q: Where can I find customer references for Amazon Bedrock?**\n",
    "\n",
    "Go [here](https://aws.amazon.com/bedrock/testimonials/).\n",
    "\n",
    "**Q: Where can I find resources for prompt engineering?**\n",
    "\n",
    "[Prompt Engineering Guide](https://www.promptingguide.ai/).\n",
    "\n",
    "**Q: Where can I find prompt guides for the various LLMs available in Amazon Bedrock?**\n",
    "\n",
    "* Amazon Titan models, refer [here](https://d2eo22ngex1n9g.cloudfront.net/Documentation/User+Guides/Titan/Amazon+Titan+Text+Prompt+Engineering+Guidelines.pdf).\n",
    "* Anthropic Claude models, refer [here](https://docs.anthropic.com/claude/docs/constructing-a-prompt).\n",
    "* AI21 Labs Jurassic models, refer [here](https://docs.ai21.com/docs/prompt-engineering).\n",
    "* Cohere Command models, refer [here](https://txt.cohere.com/constructing-prompts/).\n",
    "* Meta LLAMA 2 models, refer [here](https://llama.meta.com/docs/model-cards-and-prompt-formats/meta-llama-2).\n",
    "* Meta LLAMA 3 models, refer [here](https://llama.meta.com/docs/model-cards-and-prompt-formats/meta-llama-3).\n",
    "* Mistral AI models, refer [here](https://docs.mistral.ai/guides/prompting-capabilities/).\n",
    "\n",
    "**Q: Is LangChain mandatory to use Amazon Bedrock?**\n",
    "\n",
    "No. You can interact with Amazon Bedrock using the [Bedrock API](https://docs.aws.amazon.com/bedrock/latest/APIReference/welcome.html) or language-specific [AWS SDKs](https://aws.amazon.com/developer/tools/). \n",
    "\n",
    "**Q: How do I get started with LangChain?**\n",
    "\n",
    "Go [here](https://python.langchain.com/docs/get_started/introduction).\n",
    "\n",
    "**Q: Where can I find pricing information for the AWS services used in this notebook?**\n",
    "\n",
    "- Amazon Bedrock pricing - go [here](https://aws.amazon.com/bedrock/pricing/).\n",
    "- AWS Identity and Access Management (IAM) pricing - free.\n",
    "- Amazon CloudWatch pricing - go [here](https://aws.amazon.com/cloudwatch/pricing/).\n",
    "- Amazon SageMaker Notebook instance (or) Amazon SageMaker Studio Notebook pricing - go [here](https://aws.amazon.com/sagemaker/pricing/)."
   ]
  },
  {
   "cell_type": "code",
   "execution_count": null,
   "id": "5abc1023",
   "metadata": {},
   "outputs": [],
   "source": []
  }
 ],
 "metadata": {
  "kernelspec": {
   "display_name": "conda_python3",
   "language": "python",
   "name": "conda_python3"
  },
  "language_info": {
   "codemirror_mode": {
    "name": "ipython",
    "version": 3
   },
   "file_extension": ".py",
   "mimetype": "text/x-python",
   "name": "python",
   "nbconvert_exporter": "python",
   "pygments_lexer": "ipython3",
   "version": "3.10.14"
  }
 },
 "nbformat": 4,
 "nbformat_minor": 5
}
